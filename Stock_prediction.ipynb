{
 "cells": [
  {
   "cell_type": "markdown",
   "id": "294c9637",
   "metadata": {},
   "source": [
    "## Getting the data"
   ]
  },
  {
   "cell_type": "code",
   "execution_count": 28,
   "id": "33911168",
   "metadata": {
    "scrolled": true
   },
   "outputs": [
    {
     "name": "stdout",
     "output_type": "stream",
     "text": [
      "Requirement already satisfied: yfinance in /Users/tirthoza/miniconda3/lib/python3.10/site-packages (0.2.22)\n",
      "Requirement already satisfied: requests>=2.26 in /Users/tirthoza/miniconda3/lib/python3.10/site-packages (from yfinance) (2.28.1)\n",
      "Requirement already satisfied: frozendict>=2.3.4 in /Users/tirthoza/miniconda3/lib/python3.10/site-packages (from yfinance) (2.3.8)\n",
      "Requirement already satisfied: html5lib>=1.1 in /Users/tirthoza/miniconda3/lib/python3.10/site-packages (from yfinance) (1.1)\n",
      "Requirement already satisfied: lxml>=4.9.1 in /Users/tirthoza/miniconda3/lib/python3.10/site-packages (from yfinance) (4.9.1)\n",
      "Requirement already satisfied: multitasking>=0.0.7 in /Users/tirthoza/miniconda3/lib/python3.10/site-packages (from yfinance) (0.0.11)\n",
      "Requirement already satisfied: appdirs>=1.4.4 in /Users/tirthoza/miniconda3/lib/python3.10/site-packages (from yfinance) (1.4.4)\n",
      "Requirement already satisfied: pytz>=2022.5 in /Users/tirthoza/miniconda3/lib/python3.10/site-packages (from yfinance) (2022.7)\n",
      "Requirement already satisfied: numpy>=1.16.5 in /Users/tirthoza/miniconda3/lib/python3.10/site-packages (from yfinance) (1.24.2)\n",
      "Requirement already satisfied: beautifulsoup4>=4.11.1 in /Users/tirthoza/miniconda3/lib/python3.10/site-packages (from yfinance) (4.11.1)\n",
      "Requirement already satisfied: pandas>=1.3.0 in /Users/tirthoza/miniconda3/lib/python3.10/site-packages (from yfinance) (1.5.3)\n",
      "Requirement already satisfied: soupsieve>1.2 in /Users/tirthoza/miniconda3/lib/python3.10/site-packages (from beautifulsoup4>=4.11.1->yfinance) (2.3.2.post1)\n",
      "Requirement already satisfied: six>=1.9 in /Users/tirthoza/miniconda3/lib/python3.10/site-packages (from html5lib>=1.1->yfinance) (1.16.0)\n",
      "Requirement already satisfied: webencodings in /Users/tirthoza/miniconda3/lib/python3.10/site-packages (from html5lib>=1.1->yfinance) (0.5.1)\n",
      "Requirement already satisfied: python-dateutil>=2.8.1 in /Users/tirthoza/miniconda3/lib/python3.10/site-packages (from pandas>=1.3.0->yfinance) (2.8.2)\n",
      "Requirement already satisfied: idna<4,>=2.5 in /Users/tirthoza/miniconda3/lib/python3.10/site-packages (from requests>=2.26->yfinance) (3.4)\n",
      "Requirement already satisfied: certifi>=2017.4.17 in /Users/tirthoza/miniconda3/lib/python3.10/site-packages (from requests>=2.26->yfinance) (2022.12.7)\n",
      "Requirement already satisfied: urllib3<1.27,>=1.21.1 in /Users/tirthoza/miniconda3/lib/python3.10/site-packages (from requests>=2.26->yfinance) (1.26.14)\n",
      "Requirement already satisfied: charset-normalizer<3,>=2 in /Users/tirthoza/miniconda3/lib/python3.10/site-packages (from requests>=2.26->yfinance) (2.0.4)\n",
      "Requirement already satisfied: scikit-learn in /Users/tirthoza/miniconda3/lib/python3.10/site-packages (1.3.0)\n",
      "Requirement already satisfied: numpy>=1.17.3 in /Users/tirthoza/miniconda3/lib/python3.10/site-packages (from scikit-learn) (1.24.2)\n",
      "Requirement already satisfied: scipy>=1.5.0 in /Users/tirthoza/miniconda3/lib/python3.10/site-packages (from scikit-learn) (1.10.1)\n",
      "Requirement already satisfied: joblib>=1.1.1 in /Users/tirthoza/miniconda3/lib/python3.10/site-packages (from scikit-learn) (1.3.1)\n",
      "Requirement already satisfied: threadpoolctl>=2.0.0 in /Users/tirthoza/miniconda3/lib/python3.10/site-packages (from scikit-learn) (3.1.0)\n",
      "Requirement already satisfied: seaborn in /Users/tirthoza/miniconda3/lib/python3.10/site-packages (0.12.2)\n",
      "Requirement already satisfied: matplotlib!=3.6.1,>=3.1 in /Users/tirthoza/miniconda3/lib/python3.10/site-packages (from seaborn) (3.7.1)\n",
      "Requirement already satisfied: numpy!=1.24.0,>=1.17 in /Users/tirthoza/miniconda3/lib/python3.10/site-packages (from seaborn) (1.24.2)\n",
      "Requirement already satisfied: pandas>=0.25 in /Users/tirthoza/miniconda3/lib/python3.10/site-packages (from seaborn) (1.5.3)\n",
      "Requirement already satisfied: python-dateutil>=2.7 in /Users/tirthoza/miniconda3/lib/python3.10/site-packages (from matplotlib!=3.6.1,>=3.1->seaborn) (2.8.2)\n",
      "Requirement already satisfied: cycler>=0.10 in /Users/tirthoza/miniconda3/lib/python3.10/site-packages (from matplotlib!=3.6.1,>=3.1->seaborn) (0.11.0)\n",
      "Requirement already satisfied: pillow>=6.2.0 in /Users/tirthoza/miniconda3/lib/python3.10/site-packages (from matplotlib!=3.6.1,>=3.1->seaborn) (9.4.0)\n",
      "Requirement already satisfied: fonttools>=4.22.0 in /Users/tirthoza/miniconda3/lib/python3.10/site-packages (from matplotlib!=3.6.1,>=3.1->seaborn) (4.39.3)\n",
      "Requirement already satisfied: packaging>=20.0 in /Users/tirthoza/miniconda3/lib/python3.10/site-packages (from matplotlib!=3.6.1,>=3.1->seaborn) (22.0)\n",
      "Requirement already satisfied: pyparsing>=2.3.1 in /Users/tirthoza/miniconda3/lib/python3.10/site-packages (from matplotlib!=3.6.1,>=3.1->seaborn) (3.0.9)\n",
      "Requirement already satisfied: kiwisolver>=1.0.1 in /Users/tirthoza/miniconda3/lib/python3.10/site-packages (from matplotlib!=3.6.1,>=3.1->seaborn) (1.4.4)\n",
      "Requirement already satisfied: contourpy>=1.0.1 in /Users/tirthoza/miniconda3/lib/python3.10/site-packages (from matplotlib!=3.6.1,>=3.1->seaborn) (1.0.7)\n",
      "Requirement already satisfied: pytz>=2020.1 in /Users/tirthoza/miniconda3/lib/python3.10/site-packages (from pandas>=0.25->seaborn) (2022.7)\n",
      "Requirement already satisfied: six>=1.5 in /Users/tirthoza/miniconda3/lib/python3.10/site-packages (from python-dateutil>=2.7->matplotlib!=3.6.1,>=3.1->seaborn) (1.16.0)\n"
     ]
    }
   ],
   "source": [
    "!pip install yfinance\n",
    "!pip install scikit-learn\n",
    "!pip install seaborn"
   ]
  },
  {
   "cell_type": "code",
   "execution_count": 29,
   "id": "093601ed",
   "metadata": {},
   "outputs": [],
   "source": [
    "import yfinance as yf\n",
    "import matplotlib.pyplot as plt\n",
    "import seaborn as sns"
   ]
  },
  {
   "cell_type": "code",
   "execution_count": 30,
   "id": "73c6ce1e",
   "metadata": {},
   "outputs": [],
   "source": [
    "sp500 = yf.Ticker(\"^GSPC\")"
   ]
  },
  {
   "cell_type": "markdown",
   "id": "42e994f0",
   "metadata": {},
   "source": [
    "^GSPC is the symbol for the S&P 500 index"
   ]
  },
  {
   "cell_type": "code",
   "execution_count": 31,
   "id": "df6d96ed",
   "metadata": {},
   "outputs": [],
   "source": [
    "sp500 = sp500.history(period=\"max\")"
   ]
  },
  {
   "cell_type": "code",
   "execution_count": 32,
   "id": "0a4acb08",
   "metadata": {},
   "outputs": [
    {
     "data": {
      "text/html": [
       "<div>\n",
       "<style scoped>\n",
       "    .dataframe tbody tr th:only-of-type {\n",
       "        vertical-align: middle;\n",
       "    }\n",
       "\n",
       "    .dataframe tbody tr th {\n",
       "        vertical-align: top;\n",
       "    }\n",
       "\n",
       "    .dataframe thead th {\n",
       "        text-align: right;\n",
       "    }\n",
       "</style>\n",
       "<table border=\"1\" class=\"dataframe\">\n",
       "  <thead>\n",
       "    <tr style=\"text-align: right;\">\n",
       "      <th></th>\n",
       "      <th>Open</th>\n",
       "      <th>High</th>\n",
       "      <th>Low</th>\n",
       "      <th>Close</th>\n",
       "      <th>Volume</th>\n",
       "      <th>Dividends</th>\n",
       "      <th>Stock Splits</th>\n",
       "    </tr>\n",
       "    <tr>\n",
       "      <th>Date</th>\n",
       "      <th></th>\n",
       "      <th></th>\n",
       "      <th></th>\n",
       "      <th></th>\n",
       "      <th></th>\n",
       "      <th></th>\n",
       "      <th></th>\n",
       "    </tr>\n",
       "  </thead>\n",
       "  <tbody>\n",
       "    <tr>\n",
       "      <th>1927-12-30 00:00:00-05:00</th>\n",
       "      <td>17.660000</td>\n",
       "      <td>17.660000</td>\n",
       "      <td>17.660000</td>\n",
       "      <td>17.660000</td>\n",
       "      <td>0</td>\n",
       "      <td>0.0</td>\n",
       "      <td>0.0</td>\n",
       "    </tr>\n",
       "    <tr>\n",
       "      <th>1928-01-03 00:00:00-05:00</th>\n",
       "      <td>17.760000</td>\n",
       "      <td>17.760000</td>\n",
       "      <td>17.760000</td>\n",
       "      <td>17.760000</td>\n",
       "      <td>0</td>\n",
       "      <td>0.0</td>\n",
       "      <td>0.0</td>\n",
       "    </tr>\n",
       "    <tr>\n",
       "      <th>1928-01-04 00:00:00-05:00</th>\n",
       "      <td>17.719999</td>\n",
       "      <td>17.719999</td>\n",
       "      <td>17.719999</td>\n",
       "      <td>17.719999</td>\n",
       "      <td>0</td>\n",
       "      <td>0.0</td>\n",
       "      <td>0.0</td>\n",
       "    </tr>\n",
       "    <tr>\n",
       "      <th>1928-01-05 00:00:00-05:00</th>\n",
       "      <td>17.549999</td>\n",
       "      <td>17.549999</td>\n",
       "      <td>17.549999</td>\n",
       "      <td>17.549999</td>\n",
       "      <td>0</td>\n",
       "      <td>0.0</td>\n",
       "      <td>0.0</td>\n",
       "    </tr>\n",
       "    <tr>\n",
       "      <th>1928-01-06 00:00:00-05:00</th>\n",
       "      <td>17.660000</td>\n",
       "      <td>17.660000</td>\n",
       "      <td>17.660000</td>\n",
       "      <td>17.660000</td>\n",
       "      <td>0</td>\n",
       "      <td>0.0</td>\n",
       "      <td>0.0</td>\n",
       "    </tr>\n",
       "    <tr>\n",
       "      <th>...</th>\n",
       "      <td>...</td>\n",
       "      <td>...</td>\n",
       "      <td>...</td>\n",
       "      <td>...</td>\n",
       "      <td>...</td>\n",
       "      <td>...</td>\n",
       "      <td>...</td>\n",
       "    </tr>\n",
       "    <tr>\n",
       "      <th>2023-08-24 00:00:00-04:00</th>\n",
       "      <td>4455.160156</td>\n",
       "      <td>4458.299805</td>\n",
       "      <td>4375.549805</td>\n",
       "      <td>4376.310059</td>\n",
       "      <td>3723470000</td>\n",
       "      <td>0.0</td>\n",
       "      <td>0.0</td>\n",
       "    </tr>\n",
       "    <tr>\n",
       "      <th>2023-08-25 00:00:00-04:00</th>\n",
       "      <td>4389.379883</td>\n",
       "      <td>4418.459961</td>\n",
       "      <td>4356.290039</td>\n",
       "      <td>4405.709961</td>\n",
       "      <td>3296180000</td>\n",
       "      <td>0.0</td>\n",
       "      <td>0.0</td>\n",
       "    </tr>\n",
       "    <tr>\n",
       "      <th>2023-08-28 00:00:00-04:00</th>\n",
       "      <td>4426.029785</td>\n",
       "      <td>4439.560059</td>\n",
       "      <td>4414.979980</td>\n",
       "      <td>4433.310059</td>\n",
       "      <td>2957230000</td>\n",
       "      <td>0.0</td>\n",
       "      <td>0.0</td>\n",
       "    </tr>\n",
       "    <tr>\n",
       "      <th>2023-08-29 00:00:00-04:00</th>\n",
       "      <td>4432.750000</td>\n",
       "      <td>4500.140137</td>\n",
       "      <td>4431.680176</td>\n",
       "      <td>4497.629883</td>\n",
       "      <td>3354820000</td>\n",
       "      <td>0.0</td>\n",
       "      <td>0.0</td>\n",
       "    </tr>\n",
       "    <tr>\n",
       "      <th>2023-08-30 00:00:00-04:00</th>\n",
       "      <td>4500.339844</td>\n",
       "      <td>4521.350098</td>\n",
       "      <td>4493.589844</td>\n",
       "      <td>4511.100098</td>\n",
       "      <td>478591719</td>\n",
       "      <td>0.0</td>\n",
       "      <td>0.0</td>\n",
       "    </tr>\n",
       "  </tbody>\n",
       "</table>\n",
       "<p>24031 rows × 7 columns</p>\n",
       "</div>"
      ],
      "text/plain": [
       "                                  Open         High          Low        Close  \\\n",
       "Date                                                                            \n",
       "1927-12-30 00:00:00-05:00    17.660000    17.660000    17.660000    17.660000   \n",
       "1928-01-03 00:00:00-05:00    17.760000    17.760000    17.760000    17.760000   \n",
       "1928-01-04 00:00:00-05:00    17.719999    17.719999    17.719999    17.719999   \n",
       "1928-01-05 00:00:00-05:00    17.549999    17.549999    17.549999    17.549999   \n",
       "1928-01-06 00:00:00-05:00    17.660000    17.660000    17.660000    17.660000   \n",
       "...                                ...          ...          ...          ...   \n",
       "2023-08-24 00:00:00-04:00  4455.160156  4458.299805  4375.549805  4376.310059   \n",
       "2023-08-25 00:00:00-04:00  4389.379883  4418.459961  4356.290039  4405.709961   \n",
       "2023-08-28 00:00:00-04:00  4426.029785  4439.560059  4414.979980  4433.310059   \n",
       "2023-08-29 00:00:00-04:00  4432.750000  4500.140137  4431.680176  4497.629883   \n",
       "2023-08-30 00:00:00-04:00  4500.339844  4521.350098  4493.589844  4511.100098   \n",
       "\n",
       "                               Volume  Dividends  Stock Splits  \n",
       "Date                                                            \n",
       "1927-12-30 00:00:00-05:00           0        0.0           0.0  \n",
       "1928-01-03 00:00:00-05:00           0        0.0           0.0  \n",
       "1928-01-04 00:00:00-05:00           0        0.0           0.0  \n",
       "1928-01-05 00:00:00-05:00           0        0.0           0.0  \n",
       "1928-01-06 00:00:00-05:00           0        0.0           0.0  \n",
       "...                               ...        ...           ...  \n",
       "2023-08-24 00:00:00-04:00  3723470000        0.0           0.0  \n",
       "2023-08-25 00:00:00-04:00  3296180000        0.0           0.0  \n",
       "2023-08-28 00:00:00-04:00  2957230000        0.0           0.0  \n",
       "2023-08-29 00:00:00-04:00  3354820000        0.0           0.0  \n",
       "2023-08-30 00:00:00-04:00   478591719        0.0           0.0  \n",
       "\n",
       "[24031 rows x 7 columns]"
      ]
     },
     "execution_count": 32,
     "metadata": {},
     "output_type": "execute_result"
    }
   ],
   "source": [
    "sp500"
   ]
  },
  {
   "cell_type": "code",
   "execution_count": 33,
   "id": "51a3b36e",
   "metadata": {},
   "outputs": [
    {
     "data": {
      "text/plain": [
       "DatetimeIndex(['1927-12-30 00:00:00-05:00', '1928-01-03 00:00:00-05:00',\n",
       "               '1928-01-04 00:00:00-05:00', '1928-01-05 00:00:00-05:00',\n",
       "               '1928-01-06 00:00:00-05:00', '1928-01-09 00:00:00-05:00',\n",
       "               '1928-01-10 00:00:00-05:00', '1928-01-11 00:00:00-05:00',\n",
       "               '1928-01-12 00:00:00-05:00', '1928-01-13 00:00:00-05:00',\n",
       "               ...\n",
       "               '2023-08-17 00:00:00-04:00', '2023-08-18 00:00:00-04:00',\n",
       "               '2023-08-21 00:00:00-04:00', '2023-08-22 00:00:00-04:00',\n",
       "               '2023-08-23 00:00:00-04:00', '2023-08-24 00:00:00-04:00',\n",
       "               '2023-08-25 00:00:00-04:00', '2023-08-28 00:00:00-04:00',\n",
       "               '2023-08-29 00:00:00-04:00', '2023-08-30 00:00:00-04:00'],\n",
       "              dtype='datetime64[ns, America/New_York]', name='Date', length=24031, freq=None)"
      ]
     },
     "execution_count": 33,
     "metadata": {},
     "output_type": "execute_result"
    }
   ],
   "source": [
    "sp500.index"
   ]
  },
  {
   "cell_type": "markdown",
   "id": "ee6d3c9c",
   "metadata": {},
   "source": [
    "## Cleaning and Visualising the stock market data"
   ]
  },
  {
   "cell_type": "code",
   "execution_count": 34,
   "id": "e43de1e4",
   "metadata": {},
   "outputs": [],
   "source": [
    "sp500 = sp500.loc[\"1990-01-01\":].copy()"
   ]
  },
  {
   "cell_type": "code",
   "execution_count": 35,
   "id": "022468f7",
   "metadata": {},
   "outputs": [
    {
     "name": "stdout",
     "output_type": "stream",
     "text": [
      "SnP500's Statistic Summary: \n",
      "\n",
      "             Open       High        Low      Close        Volume  Dividends  \\\n",
      "count  8481.0000  8481.0000  8481.0000  8481.0000  8.481000e+03     8481.0   \n",
      "mean   1555.1734  1564.4371  1545.2774  1555.4899  2.444941e+09        0.0   \n",
      "std    1056.3685  1062.1781  1050.1767  1056.5101  1.851633e+09        0.0   \n",
      "min     295.4500   301.4500   294.5100   295.4600  1.499000e+07        0.0   \n",
      "25%     890.4000   900.0900   879.2000   890.7100  6.292500e+08        0.0   \n",
      "50%    1262.9600  1271.4700  1254.9800  1263.2000  2.434680e+09        0.0   \n",
      "75%    2018.2100  2024.6400  2005.2300  2018.9399  3.825410e+09        0.0   \n",
      "max    4804.5098  4818.6201  4780.0400  4796.5601  1.145623e+10        0.0   \n",
      "\n",
      "       Stock Splits  \n",
      "count        8481.0  \n",
      "mean            0.0  \n",
      "std             0.0  \n",
      "min             0.0  \n",
      "25%             0.0  \n",
      "50%             0.0  \n",
      "75%             0.0  \n",
      "max             0.0  \n"
     ]
    }
   ],
   "source": [
    "variable_name = 'SnP500'\n",
    "print(f\"{variable_name}'s Statistic Summary: \\n\\n {sp500.describe().round(4)}\")\n"
   ]
  },
  {
   "cell_type": "code",
   "execution_count": 36,
   "id": "d3197a92",
   "metadata": {
    "scrolled": true
   },
   "outputs": [
    {
     "data": {
      "image/png": "[encoded data removed]",
      "text/plain": [
       "<Figure size 800x600 with 1 Axes>"
      ]
     },
     "metadata": {},
     "output_type": "display_data"
    }
   ],
   "source": [
    "plt.figure(figsize=(8,6))\n",
    "plt.boxplot(sp500['Close'])\n",
    "plt.ylabel('Price($)')\n",
    "plt.title(f'{variable_name}\\'s Close Price', fontsize=15)\n",
    "plt.show()"
   ]
  },
  {
   "cell_type": "markdown",
   "id": "1cbfad3c",
   "metadata": {},
   "source": [
    "The box plot shown is positively skewed. "
   ]
  },
  {
   "cell_type": "code",
   "execution_count": 37,
   "id": "4c1da66a",
   "metadata": {},
   "outputs": [],
   "source": [
    "del sp500[\"Dividends\"]\n",
    "del sp500[\"Stock Splits\"]"
   ]
  },
  {
   "cell_type": "markdown",
   "id": "4bc42532",
   "metadata": {},
   "source": [
    "Now, we deleted the columns we did not need"
   ]
  },
  {
   "cell_type": "code",
   "execution_count": 38,
   "id": "2df45bdf",
   "metadata": {},
   "outputs": [
    {
     "data": {
      "image/png": "[encoded data removed]",
      "text/plain": [
       "<Figure size 800x800 with 2 Axes>"
      ]
     },
     "metadata": {},
     "output_type": "display_data"
    }
   ],
   "source": [
    "plt.figure(figsize = (8,8))\n",
    "sns.heatmap(sp500.corr(), cmap='GnBu', annot=True, linewidths = 1, fmt='f').set_title(f'Correlation Heatmap of {variable_name}', fontsize=15)\n",
    "plt.xticks(rotation=30, fontsize=10)\n",
    "plt.yticks(rotation=0, fontsize=10)\n",
    "plt.show()"
   ]
  },
  {
   "cell_type": "code",
   "execution_count": 39,
   "id": "1095d76c",
   "metadata": {
    "scrolled": true
   },
   "outputs": [
    {
     "data": {
      "text/plain": [
       "<Axes: xlabel='Date'>"
      ]
     },
     "execution_count": 39,
     "metadata": {},
     "output_type": "execute_result"
    },
    {
     "data": {
      "image/png": "[encoded data removed]",
      "text/plain": [
       "<Figure size 640x480 with 1 Axes>"
      ]
     },
     "metadata": {},
     "output_type": "display_data"
    }
   ],
   "source": [
    "sp500.plot.line(y=\"Close\", use_index=True)"
   ]
  },
  {
   "cell_type": "markdown",
   "id": "97b45fb0",
   "metadata": {},
   "source": [
    "'use_index = True' will allow us to plot the closing prices everyday against the date index."
   ]
  },
  {
   "cell_type": "code",
   "execution_count": 40,
   "id": "ca0ed6d5",
   "metadata": {},
   "outputs": [
    {
     "data": {
      "text/plain": [
       "<Axes: xlabel='Date'>"
      ]
     },
     "execution_count": 40,
     "metadata": {},
     "output_type": "execute_result"
    },
    {
     "data": {
      "image/png": "[encoded data removed]",
      "text/plain": [
       "<Figure size 640x480 with 1 Axes>"
      ]
     },
     "metadata": {},
     "output_type": "display_data"
    }
   ],
   "source": [
    "sp500.plot.line(y=\"Volume\", use_index=True)"
   ]
  },
  {
   "cell_type": "markdown",
   "id": "3c0f2e39",
   "metadata": {},
   "source": [
    "## Setting up our target for Machine Learning"
   ]
  },
  {
   "cell_type": "markdown",
   "id": "3accafc9",
   "metadata": {},
   "source": [
    "Rather than predicting the actual price of the stock, we can make it more concise by predicting that, on days the stock goes up, will it actually go up? We focus more on the directionality of the stock price, than the price itself."
   ]
  },
  {
   "cell_type": "code",
   "execution_count": 41,
   "id": "91fc5ca5",
   "metadata": {},
   "outputs": [],
   "source": [
    "sp500[\"Tomorrow\"] = sp500[\"Close\"].shift(-1)"
   ]
  },
  {
   "cell_type": "code",
   "execution_count": 42,
   "id": "95a5ab81",
   "metadata": {},
   "outputs": [
    {
     "data": {
      "text/html": [
       "<div>\n",
       "<style scoped>\n",
       "    .dataframe tbody tr th:only-of-type {\n",
       "        vertical-align: middle;\n",
       "    }\n",
       "\n",
       "    .dataframe tbody tr th {\n",
       "        vertical-align: top;\n",
       "    }\n",
       "\n",
       "    .dataframe thead th {\n",
       "        text-align: right;\n",
       "    }\n",
       "</style>\n",
       "<table border=\"1\" class=\"dataframe\">\n",
       "  <thead>\n",
       "    <tr style=\"text-align: right;\">\n",
       "      <th></th>\n",
       "      <th>Open</th>\n",
       "      <th>High</th>\n",
       "      <th>Low</th>\n",
       "      <th>Close</th>\n",
       "      <th>Volume</th>\n",
       "      <th>Tomorrow</th>\n",
       "    </tr>\n",
       "    <tr>\n",
       "      <th>Date</th>\n",
       "      <th></th>\n",
       "      <th></th>\n",
       "      <th></th>\n",
       "      <th></th>\n",
       "      <th></th>\n",
       "      <th></th>\n",
       "    </tr>\n",
       "  </thead>\n",
       "  <tbody>\n",
       "    <tr>\n",
       "      <th>1990-01-02 00:00:00-05:00</th>\n",
       "      <td>353.399994</td>\n",
       "      <td>359.690002</td>\n",
       "      <td>351.980011</td>\n",
       "      <td>359.690002</td>\n",
       "      <td>162070000</td>\n",
       "      <td>358.760010</td>\n",
       "    </tr>\n",
       "    <tr>\n",
       "      <th>1990-01-03 00:00:00-05:00</th>\n",
       "      <td>359.690002</td>\n",
       "      <td>360.589996</td>\n",
       "      <td>357.890015</td>\n",
       "      <td>358.760010</td>\n",
       "      <td>192330000</td>\n",
       "      <td>355.670013</td>\n",
       "    </tr>\n",
       "    <tr>\n",
       "      <th>1990-01-04 00:00:00-05:00</th>\n",
       "      <td>358.760010</td>\n",
       "      <td>358.760010</td>\n",
       "      <td>352.890015</td>\n",
       "      <td>355.670013</td>\n",
       "      <td>177000000</td>\n",
       "      <td>352.200012</td>\n",
       "    </tr>\n",
       "    <tr>\n",
       "      <th>1990-01-05 00:00:00-05:00</th>\n",
       "      <td>355.670013</td>\n",
       "      <td>355.670013</td>\n",
       "      <td>351.350006</td>\n",
       "      <td>352.200012</td>\n",
       "      <td>158530000</td>\n",
       "      <td>353.790009</td>\n",
       "    </tr>\n",
       "    <tr>\n",
       "      <th>1990-01-08 00:00:00-05:00</th>\n",
       "      <td>352.200012</td>\n",
       "      <td>354.239990</td>\n",
       "      <td>350.540009</td>\n",
       "      <td>353.790009</td>\n",
       "      <td>140110000</td>\n",
       "      <td>349.619995</td>\n",
       "    </tr>\n",
       "    <tr>\n",
       "      <th>...</th>\n",
       "      <td>...</td>\n",
       "      <td>...</td>\n",
       "      <td>...</td>\n",
       "      <td>...</td>\n",
       "      <td>...</td>\n",
       "      <td>...</td>\n",
       "    </tr>\n",
       "    <tr>\n",
       "      <th>2023-08-24 00:00:00-04:00</th>\n",
       "      <td>4455.160156</td>\n",
       "      <td>4458.299805</td>\n",
       "      <td>4375.549805</td>\n",
       "      <td>4376.310059</td>\n",
       "      <td>3723470000</td>\n",
       "      <td>4405.709961</td>\n",
       "    </tr>\n",
       "    <tr>\n",
       "      <th>2023-08-25 00:00:00-04:00</th>\n",
       "      <td>4389.379883</td>\n",
       "      <td>4418.459961</td>\n",
       "      <td>4356.290039</td>\n",
       "      <td>4405.709961</td>\n",
       "      <td>3296180000</td>\n",
       "      <td>4433.310059</td>\n",
       "    </tr>\n",
       "    <tr>\n",
       "      <th>2023-08-28 00:00:00-04:00</th>\n",
       "      <td>4426.029785</td>\n",
       "      <td>4439.560059</td>\n",
       "      <td>4414.979980</td>\n",
       "      <td>4433.310059</td>\n",
       "      <td>2957230000</td>\n",
       "      <td>4497.629883</td>\n",
       "    </tr>\n",
       "    <tr>\n",
       "      <th>2023-08-29 00:00:00-04:00</th>\n",
       "      <td>4432.750000</td>\n",
       "      <td>4500.140137</td>\n",
       "      <td>4431.680176</td>\n",
       "      <td>4497.629883</td>\n",
       "      <td>3354820000</td>\n",
       "      <td>4511.100098</td>\n",
       "    </tr>\n",
       "    <tr>\n",
       "      <th>2023-08-30 00:00:00-04:00</th>\n",
       "      <td>4500.339844</td>\n",
       "      <td>4521.350098</td>\n",
       "      <td>4493.589844</td>\n",
       "      <td>4511.100098</td>\n",
       "      <td>478591719</td>\n",
       "      <td>NaN</td>\n",
       "    </tr>\n",
       "  </tbody>\n",
       "</table>\n",
       "<p>8481 rows × 6 columns</p>\n",
       "</div>"
      ],
      "text/plain": [
       "                                  Open         High          Low        Close  \\\n",
       "Date                                                                            \n",
       "1990-01-02 00:00:00-05:00   353.399994   359.690002   351.980011   359.690002   \n",
       "1990-01-03 00:00:00-05:00   359.690002   360.589996   357.890015   358.760010   \n",
       "1990-01-04 00:00:00-05:00   358.760010   358.760010   352.890015   355.670013   \n",
       "1990-01-05 00:00:00-05:00   355.670013   355.670013   351.350006   352.200012   \n",
       "1990-01-08 00:00:00-05:00   352.200012   354.239990   350.540009   353.790009   \n",
       "...                                ...          ...          ...          ...   \n",
       "2023-08-24 00:00:00-04:00  4455.160156  4458.299805  4375.549805  4376.310059   \n",
       "2023-08-25 00:00:00-04:00  4389.379883  4418.459961  4356.290039  4405.709961   \n",
       "2023-08-28 00:00:00-04:00  4426.029785  4439.560059  4414.979980  4433.310059   \n",
       "2023-08-29 00:00:00-04:00  4432.750000  4500.140137  4431.680176  4497.629883   \n",
       "2023-08-30 00:00:00-04:00  4500.339844  4521.350098  4493.589844  4511.100098   \n",
       "\n",
       "                               Volume     Tomorrow  \n",
       "Date                                                \n",
       "1990-01-02 00:00:00-05:00   162070000   358.760010  \n",
       "1990-01-03 00:00:00-05:00   192330000   355.670013  \n",
       "1990-01-04 00:00:00-05:00   177000000   352.200012  \n",
       "1990-01-05 00:00:00-05:00   158530000   353.790009  \n",
       "1990-01-08 00:00:00-05:00   140110000   349.619995  \n",
       "...                               ...          ...  \n",
       "2023-08-24 00:00:00-04:00  3723470000  4405.709961  \n",
       "2023-08-25 00:00:00-04:00  3296180000  4433.310059  \n",
       "2023-08-28 00:00:00-04:00  2957230000  4497.629883  \n",
       "2023-08-29 00:00:00-04:00  3354820000  4511.100098  \n",
       "2023-08-30 00:00:00-04:00   478591719          NaN  \n",
       "\n",
       "[8481 rows x 6 columns]"
      ]
     },
     "execution_count": 42,
     "metadata": {},
     "output_type": "execute_result"
    }
   ],
   "source": [
    "sp500"
   ]
  },
  {
   "cell_type": "markdown",
   "id": "93d059e1",
   "metadata": {},
   "source": [
    "We created a column called 'Tomorrow' that shows the next days' closing price. Therefore, the last row does not have any data in it yet. "
   ]
  },
  {
   "cell_type": "code",
   "execution_count": 43,
   "id": "46816f56",
   "metadata": {},
   "outputs": [],
   "source": [
    "sp500[\"Target\"] = (sp500[\"Tomorrow\"] > sp500[\"Close\"]).astype(int)"
   ]
  },
  {
   "cell_type": "code",
   "execution_count": 44,
   "id": "385f129f",
   "metadata": {},
   "outputs": [
    {
     "data": {
      "text/html": [
       "<div>\n",
       "<style scoped>\n",
       "    .dataframe tbody tr th:only-of-type {\n",
       "        vertical-align: middle;\n",
       "    }\n",
       "\n",
       "    .dataframe tbody tr th {\n",
       "        vertical-align: top;\n",
       "    }\n",
       "\n",
       "    .dataframe thead th {\n",
       "        text-align: right;\n",
       "    }\n",
       "</style>\n",
       "<table border=\"1\" class=\"dataframe\">\n",
       "  <thead>\n",
       "    <tr style=\"text-align: right;\">\n",
       "      <th></th>\n",
       "      <th>Open</th>\n",
       "      <th>High</th>\n",
       "      <th>Low</th>\n",
       "      <th>Close</th>\n",
       "      <th>Volume</th>\n",
       "      <th>Tomorrow</th>\n",
       "      <th>Target</th>\n",
       "    </tr>\n",
       "    <tr>\n",
       "      <th>Date</th>\n",
       "      <th></th>\n",
       "      <th></th>\n",
       "      <th></th>\n",
       "      <th></th>\n",
       "      <th></th>\n",
       "      <th></th>\n",
       "      <th></th>\n",
       "    </tr>\n",
       "  </thead>\n",
       "  <tbody>\n",
       "    <tr>\n",
       "      <th>1990-01-02 00:00:00-05:00</th>\n",
       "      <td>353.399994</td>\n",
       "      <td>359.690002</td>\n",
       "      <td>351.980011</td>\n",
       "      <td>359.690002</td>\n",
       "      <td>162070000</td>\n",
       "      <td>358.760010</td>\n",
       "      <td>0</td>\n",
       "    </tr>\n",
       "    <tr>\n",
       "      <th>1990-01-03 00:00:00-05:00</th>\n",
       "      <td>359.690002</td>\n",
       "      <td>360.589996</td>\n",
       "      <td>357.890015</td>\n",
       "      <td>358.760010</td>\n",
       "      <td>192330000</td>\n",
       "      <td>355.670013</td>\n",
       "      <td>0</td>\n",
       "    </tr>\n",
       "    <tr>\n",
       "      <th>1990-01-04 00:00:00-05:00</th>\n",
       "      <td>358.760010</td>\n",
       "      <td>358.760010</td>\n",
       "      <td>352.890015</td>\n",
       "      <td>355.670013</td>\n",
       "      <td>177000000</td>\n",
       "      <td>352.200012</td>\n",
       "      <td>0</td>\n",
       "    </tr>\n",
       "    <tr>\n",
       "      <th>1990-01-05 00:00:00-05:00</th>\n",
       "      <td>355.670013</td>\n",
       "      <td>355.670013</td>\n",
       "      <td>351.350006</td>\n",
       "      <td>352.200012</td>\n",
       "      <td>158530000</td>\n",
       "      <td>353.790009</td>\n",
       "      <td>1</td>\n",
       "    </tr>\n",
       "    <tr>\n",
       "      <th>1990-01-08 00:00:00-05:00</th>\n",
       "      <td>352.200012</td>\n",
       "      <td>354.239990</td>\n",
       "      <td>350.540009</td>\n",
       "      <td>353.790009</td>\n",
       "      <td>140110000</td>\n",
       "      <td>349.619995</td>\n",
       "      <td>0</td>\n",
       "    </tr>\n",
       "    <tr>\n",
       "      <th>...</th>\n",
       "      <td>...</td>\n",
       "      <td>...</td>\n",
       "      <td>...</td>\n",
       "      <td>...</td>\n",
       "      <td>...</td>\n",
       "      <td>...</td>\n",
       "      <td>...</td>\n",
       "    </tr>\n",
       "    <tr>\n",
       "      <th>2023-08-24 00:00:00-04:00</th>\n",
       "      <td>4455.160156</td>\n",
       "      <td>4458.299805</td>\n",
       "      <td>4375.549805</td>\n",
       "      <td>4376.310059</td>\n",
       "      <td>3723470000</td>\n",
       "      <td>4405.709961</td>\n",
       "      <td>1</td>\n",
       "    </tr>\n",
       "    <tr>\n",
       "      <th>2023-08-25 00:00:00-04:00</th>\n",
       "      <td>4389.379883</td>\n",
       "      <td>4418.459961</td>\n",
       "      <td>4356.290039</td>\n",
       "      <td>4405.709961</td>\n",
       "      <td>3296180000</td>\n",
       "      <td>4433.310059</td>\n",
       "      <td>1</td>\n",
       "    </tr>\n",
       "    <tr>\n",
       "      <th>2023-08-28 00:00:00-04:00</th>\n",
       "      <td>4426.029785</td>\n",
       "      <td>4439.560059</td>\n",
       "      <td>4414.979980</td>\n",
       "      <td>4433.310059</td>\n",
       "      <td>2957230000</td>\n",
       "      <td>4497.629883</td>\n",
       "      <td>1</td>\n",
       "    </tr>\n",
       "    <tr>\n",
       "      <th>2023-08-29 00:00:00-04:00</th>\n",
       "      <td>4432.750000</td>\n",
       "      <td>4500.140137</td>\n",
       "      <td>4431.680176</td>\n",
       "      <td>4497.629883</td>\n",
       "      <td>3354820000</td>\n",
       "      <td>4511.100098</td>\n",
       "      <td>1</td>\n",
       "    </tr>\n",
       "    <tr>\n",
       "      <th>2023-08-30 00:00:00-04:00</th>\n",
       "      <td>4500.339844</td>\n",
       "      <td>4521.350098</td>\n",
       "      <td>4493.589844</td>\n",
       "      <td>4511.100098</td>\n",
       "      <td>478591719</td>\n",
       "      <td>NaN</td>\n",
       "      <td>0</td>\n",
       "    </tr>\n",
       "  </tbody>\n",
       "</table>\n",
       "<p>8481 rows × 7 columns</p>\n",
       "</div>"
      ],
      "text/plain": [
       "                                  Open         High          Low        Close  \\\n",
       "Date                                                                            \n",
       "1990-01-02 00:00:00-05:00   353.399994   359.690002   351.980011   359.690002   \n",
       "1990-01-03 00:00:00-05:00   359.690002   360.589996   357.890015   358.760010   \n",
       "1990-01-04 00:00:00-05:00   358.760010   358.760010   352.890015   355.670013   \n",
       "1990-01-05 00:00:00-05:00   355.670013   355.670013   351.350006   352.200012   \n",
       "1990-01-08 00:00:00-05:00   352.200012   354.239990   350.540009   353.790009   \n",
       "...                                ...          ...          ...          ...   \n",
       "2023-08-24 00:00:00-04:00  4455.160156  4458.299805  4375.549805  4376.310059   \n",
       "2023-08-25 00:00:00-04:00  4389.379883  4418.459961  4356.290039  4405.709961   \n",
       "2023-08-28 00:00:00-04:00  4426.029785  4439.560059  4414.979980  4433.310059   \n",
       "2023-08-29 00:00:00-04:00  4432.750000  4500.140137  4431.680176  4497.629883   \n",
       "2023-08-30 00:00:00-04:00  4500.339844  4521.350098  4493.589844  4511.100098   \n",
       "\n",
       "                               Volume     Tomorrow  Target  \n",
       "Date                                                        \n",
       "1990-01-02 00:00:00-05:00   162070000   358.760010       0  \n",
       "1990-01-03 00:00:00-05:00   192330000   355.670013       0  \n",
       "1990-01-04 00:00:00-05:00   177000000   352.200012       0  \n",
       "1990-01-05 00:00:00-05:00   158530000   353.790009       1  \n",
       "1990-01-08 00:00:00-05:00   140110000   349.619995       0  \n",
       "...                               ...          ...     ...  \n",
       "2023-08-24 00:00:00-04:00  3723470000  4405.709961       1  \n",
       "2023-08-25 00:00:00-04:00  3296180000  4433.310059       1  \n",
       "2023-08-28 00:00:00-04:00  2957230000  4497.629883       1  \n",
       "2023-08-29 00:00:00-04:00  3354820000  4511.100098       1  \n",
       "2023-08-30 00:00:00-04:00   478591719          NaN       0  \n",
       "\n",
       "[8481 rows x 7 columns]"
      ]
     },
     "execution_count": 44,
     "metadata": {},
     "output_type": "execute_result"
    }
   ],
   "source": [
    "sp500"
   ]
  },
  {
   "cell_type": "markdown",
   "id": "8095d326",
   "metadata": {},
   "source": [
    "We created a column called Target, which basically shows if tomorrows closing stock price will be higher than todays. We converted it into an interger so that we can use it in our machine learning algorithms in the future. \n",
    "Target is what we are going to try and predict with machine learning. "
   ]
  },
  {
   "cell_type": "markdown",
   "id": "cd2989b0",
   "metadata": {},
   "source": [
    "We are going to remove the data from before 1990, because there is no need for so much data, as well as, the stock market patterns might have shifted fundamentally over this long period."
   ]
  },
  {
   "cell_type": "markdown",
   "id": "a8c2f529",
   "metadata": {},
   "source": [
    "## Training with an initial Machine Learning Model"
   ]
  },
  {
   "cell_type": "code",
   "execution_count": 45,
   "id": "d1bb6c5d",
   "metadata": {},
   "outputs": [
    {
     "data": {
      "text/html": [
       "<style>#sk-container-id-2 {color: black;}#sk-container-id-2 pre{padding: 0;}#sk-container-id-2 div.sk-toggleable {background-color: white;}#sk-container-id-2 label.sk-toggleable__label {cursor: pointer;display: block;width: 100%;margin-bottom: 0;padding: 0.3em;box-sizing: border-box;text-align: center;}#sk-container-id-2 label.sk-toggleable__label-arrow:before {content: \"▸\";float: left;margin-right: 0.25em;color: #696969;}#sk-container-id-2 label.sk-toggleable__label-arrow:hover:before {color: black;}#sk-container-id-2 div.sk-estimator:hover label.sk-toggleable__label-arrow:before {color: black;}#sk-container-id-2 div.sk-toggleable__content {max-height: 0;max-width: 0;overflow: hidden;text-align: left;background-color: #f0f8ff;}#sk-container-id-2 div.sk-toggleable__content pre {margin: 0.2em;color: black;border-radius: 0.25em;background-color: #f0f8ff;}#sk-container-id-2 input.sk-toggleable__control:checked~div.sk-toggleable__content {max-height: 200px;max-width: 100%;overflow: auto;}#sk-container-id-2 input.sk-toggleable__control:checked~label.sk-toggleable__label-arrow:before {content: \"▾\";}#sk-container-id-2 div.sk-estimator input.sk-toggleable__control:checked~label.sk-toggleable__label {background-color: #d4ebff;}#sk-container-id-2 div.sk-label input.sk-toggleable__control:checked~label.sk-toggleable__label {background-color: #d4ebff;}#sk-container-id-2 input.sk-hidden--visually {border: 0;clip: rect(1px 1px 1px 1px);clip: rect(1px, 1px, 1px, 1px);height: 1px;margin: -1px;overflow: hidden;padding: 0;position: absolute;width: 1px;}#sk-container-id-2 div.sk-estimator {font-family: monospace;background-color: #f0f8ff;border: 1px dotted black;border-radius: 0.25em;box-sizing: border-box;margin-bottom: 0.5em;}#sk-container-id-2 div.sk-estimator:hover {background-color: #d4ebff;}#sk-container-id-2 div.sk-parallel-item::after {content: \"\";width: 100%;border-bottom: 1px solid gray;flex-grow: 1;}#sk-container-id-2 div.sk-label:hover label.sk-toggleable__label {background-color: #d4ebff;}#sk-container-id-2 div.sk-serial::before {content: \"\";position: absolute;border-left: 1px solid gray;box-sizing: border-box;top: 0;bottom: 0;left: 50%;z-index: 0;}#sk-container-id-2 div.sk-serial {display: flex;flex-direction: column;align-items: center;background-color: white;padding-right: 0.2em;padding-left: 0.2em;position: relative;}#sk-container-id-2 div.sk-item {position: relative;z-index: 1;}#sk-container-id-2 div.sk-parallel {display: flex;align-items: stretch;justify-content: center;background-color: white;position: relative;}#sk-container-id-2 div.sk-item::before, #sk-container-id-2 div.sk-parallel-item::before {content: \"\";position: absolute;border-left: 1px solid gray;box-sizing: border-box;top: 0;bottom: 0;left: 50%;z-index: -1;}#sk-container-id-2 div.sk-parallel-item {display: flex;flex-direction: column;z-index: 1;position: relative;background-color: white;}#sk-container-id-2 div.sk-parallel-item:first-child::after {align-self: flex-end;width: 50%;}#sk-container-id-2 div.sk-parallel-item:last-child::after {align-self: flex-start;width: 50%;}#sk-container-id-2 div.sk-parallel-item:only-child::after {width: 0;}#sk-container-id-2 div.sk-dashed-wrapped {border: 1px dashed gray;margin: 0 0.4em 0.5em 0.4em;box-sizing: border-box;padding-bottom: 0.4em;background-color: white;}#sk-container-id-2 div.sk-label label {font-family: monospace;font-weight: bold;display: inline-block;line-height: 1.2em;}#sk-container-id-2 div.sk-label-container {text-align: center;}#sk-container-id-2 div.sk-container {/* jupyter's `normalize.less` sets `[hidden] { display: none; }` but bootstrap.min.css set `[hidden] { display: none !important; }` so we also need the `!important` here to be able to override the default hidden behavior on the sphinx rendered scikit-learn.org. See: https://github.com/scikit-learn/scikit-learn/issues/21755 */display: inline-block !important;position: relative;}#sk-container-id-2 div.sk-text-repr-fallback {display: none;}</style><div id=\"sk-container-id-2\" class=\"sk-top-container\"><div class=\"sk-text-repr-fallback\"><pre>RandomForestClassifier(min_samples_split=100, random_state=1)</pre><b>In a Jupyter environment, please rerun this cell to show the HTML representation or trust the notebook. <br />On GitHub, the HTML representation is unable to render, please try loading this page with nbviewer.org.</b></div><div class=\"sk-container\" hidden><div class=\"sk-item\"><div class=\"sk-estimator sk-toggleable\"><input class=\"sk-toggleable__control sk-hidden--visually\" id=\"sk-estimator-id-2\" type=\"checkbox\" checked><label for=\"sk-estimator-id-2\" class=\"sk-toggleable__label sk-toggleable__label-arrow\">RandomForestClassifier</label><div class=\"sk-toggleable__content\"><pre>RandomForestClassifier(min_samples_split=100, random_state=1)</pre></div></div></div></div></div>"
      ],
      "text/plain": [
       "RandomForestClassifier(min_samples_split=100, random_state=1)"
      ]
     },
     "execution_count": 45,
     "metadata": {},
     "output_type": "execute_result"
    }
   ],
   "source": [
    "from sklearn.ensemble import RandomForestClassifier\n",
    "\n",
    "model = RandomForestClassifier(n_estimators = 100, min_samples_split = 100, random_state=1)\n",
    "# n_estimators shows us we have 100 decision trees.\n",
    "# min_sample_split is to avoid overfitting. The higher this number, the less accurate the model will be but, it will be more applicable to real world scenarios.\n",
    "# random_state=1 . This ensures when we run the same code, with the same dataset, we will always get the same results. This helps us in figuring out how each feature can affect the output.\n",
    "\n",
    "train = sp500.iloc[:-100] \n",
    "# We train on all row except the last 100\n",
    "\n",
    "test = sp500.iloc[-100:]\n",
    "# We test on the last 100 rows only\n",
    "\n",
    "predictors = [\"Close\", \"Volume\", \"Open\", \"High\", \"Low\"]\n",
    "# specific predictors in order to avoid making Target predict Target itself.\n",
    "\n",
    "model.fit(train[predictors], train[\"Target\"])"
   ]
  },
  {
   "cell_type": "markdown",
   "id": "b5d23aea",
   "metadata": {},
   "source": [
    "Random Forest works by combining multiple decision trees to create a powerful classification model. Each decision tree is trained on different subsets of data, and the final prediction is made by aggregating the predictions of individual trees.\n",
    "Random forest can pick up non linear relationships, which is usually the case in stock market prediction."
   ]
  },
  {
   "cell_type": "markdown",
   "id": "87119c4d",
   "metadata": {},
   "source": [
    "In this case, we are assuming that we want to buy stock. So we want to ensure that when we buy stock, the stock price will actually increase so that later we can sell it and make a profit."
   ]
  },
  {
   "cell_type": "code",
   "execution_count": 46,
   "id": "933079e0",
   "metadata": {},
   "outputs": [],
   "source": [
    "from sklearn.metrics import precision_score\n",
    "\n",
    "preds = model.predict(test[predictors])"
   ]
  },
  {
   "cell_type": "markdown",
   "id": "404f801c",
   "metadata": {},
   "source": [
    "This is a numpy array. We turn this to a pandas series so that it is easier to work with."
   ]
  },
  {
   "cell_type": "code",
   "execution_count": 47,
   "id": "c3be8567",
   "metadata": {},
   "outputs": [],
   "source": [
    "import pandas as pd\n",
    "\n",
    "preds = pd.Series(preds, index= test.index)"
   ]
  },
  {
   "cell_type": "code",
   "execution_count": 48,
   "id": "53ac8158",
   "metadata": {},
   "outputs": [
    {
     "data": {
      "text/plain": [
       "0.5714285714285714"
      ]
     },
     "execution_count": 48,
     "metadata": {},
     "output_type": "execute_result"
    }
   ],
   "source": [
    "precision_score(test[\"Target\"], preds)"
   ]
  },
  {
   "cell_type": "markdown",
   "id": "a539d40f",
   "metadata": {},
   "source": [
    "This shows that our model is correct only 50% to 60% of the times. This is not exactly a great score. We try and improve this score."
   ]
  },
  {
   "cell_type": "code",
   "execution_count": 49,
   "id": "ea8f8e02",
   "metadata": {},
   "outputs": [],
   "source": [
    "combined = pd.concat([test[\"Target\"], preds], axis=1)\n",
    "# We treat each of these columns as an input in our dataset"
   ]
  },
  {
   "cell_type": "code",
   "execution_count": 50,
   "id": "1f8883b6",
   "metadata": {},
   "outputs": [
    {
     "data": {
      "text/plain": [
       "<Axes: xlabel='Date'>"
      ]
     },
     "execution_count": 50,
     "metadata": {},
     "output_type": "execute_result"
    },
    {
     "data": {
      "image/png": "[encoded data removed]",
      "text/plain": [
       "<Figure size 640x480 with 1 Axes>"
      ]
     },
     "metadata": {},
     "output_type": "display_data"
    }
   ],
   "source": [
    "combined.plot()"
   ]
  },
  {
   "cell_type": "markdown",
   "id": "012ffe22",
   "metadata": {},
   "source": [
    "The orange lines here is our predictions and the blue lines is what actually happened."
   ]
  },
  {
   "cell_type": "markdown",
   "id": "ca04dc80",
   "metadata": {},
   "source": [
    "## Buliding a Backtesting System\n",
    "\n",
    "Bactesting involves applying the strategy to past market data to simulate how it would have performed in real-time."
   ]
  },
  {
   "cell_type": "code",
   "execution_count": 51,
   "id": "fb176971",
   "metadata": {},
   "outputs": [],
   "source": [
    "def predict(train, test, predictors, model):\n",
    "    model.fit(train[predictors], train[\"Target\"])\n",
    "    preds = model.predict(test[predictors])\n",
    "    preds = pd.Series(preds, index=test.index, name=\"Predictions\")\n",
    "    combined = pd.concat([test[\"Target\"], preds], axis=1)\n",
    "    return combined"
   ]
  },
  {
   "cell_type": "code",
   "execution_count": 52,
   "id": "544447cc",
   "metadata": {},
   "outputs": [],
   "source": [
    "def backtest(data, model, predictors, start=2500, step=250):\n",
    "    all_predictions = []\n",
    "    # This is a list of all the dataframes, where each dataframe is the list of predictions for a single year\n",
    "    \n",
    "    # this will make predictions per year, except for the first 10 years\n",
    "    for i in range(start, data.shape[0], step):\n",
    "        train = data.iloc[0:i].copy()\n",
    "        #training on all of the years prior to the current year\n",
    "        test = data.iloc[i:(i+step)].copy()\n",
    "        #testing will be on the current year\n",
    "        predictions = predict(train, test, predictors, model)\n",
    "        all_predictions.append(predictions)\n",
    "        \n",
    "    return pd. concat(all_predictions)\n",
    "        \n",
    "        \n",
    "#start: Every year has about 250 trading days. Start=2500 signifies that we take a 10 year data. "
   ]
  },
  {
   "cell_type": "code",
   "execution_count": 55,
   "id": "61d97de6",
   "metadata": {},
   "outputs": [],
   "source": [
    "predictions = backtest(sp500, model, predictors)"
   ]
  },
  {
   "cell_type": "code",
   "execution_count": 56,
   "id": "e201a4e3",
   "metadata": {},
   "outputs": [
    {
     "data": {
      "text/plain": [
       "0    3435\n",
       "1    2546\n",
       "Name: Predictions, dtype: int64"
      ]
     },
     "execution_count": 56,
     "metadata": {},
     "output_type": "execute_result"
    }
   ],
   "source": [
    "predictions[\"Predictions\"].value_counts()"
   ]
  },
  {
   "cell_type": "markdown",
   "id": "d2ba2d0b",
   "metadata": {},
   "source": [
    "The model predicts that the price will go up for around 2500 trading days, and the price will go down for around 3400 trading days."
   ]
  },
  {
   "cell_type": "code",
   "execution_count": 57,
   "id": "91c37a4c",
   "metadata": {},
   "outputs": [
    {
     "data": {
      "text/plain": [
       "0.5290652003142183"
      ]
     },
     "execution_count": 57,
     "metadata": {},
     "output_type": "execute_result"
    }
   ],
   "source": [
    "precision_score(predictions[\"Target\"], predictions[\"Predictions\"])"
   ]
  },
  {
   "cell_type": "code",
   "execution_count": 58,
   "id": "179fc9c1",
   "metadata": {},
   "outputs": [
    {
     "data": {
      "text/plain": [
       "1    0.533857\n",
       "0    0.466143\n",
       "Name: Target, dtype: float64"
      ]
     },
     "execution_count": 58,
     "metadata": {},
     "output_type": "execute_result"
    }
   ],
   "source": [
    "predictions[\"Target\"].value_counts() / predictions.shape[0]"
   ]
  },
  {
   "cell_type": "markdown",
   "id": "29eea854",
   "metadata": {},
   "source": [
    "## Adding more predictors to our model"
   ]
  },
  {
   "cell_type": "code",
   "execution_count": 59,
   "id": "2bbfe0a4",
   "metadata": {},
   "outputs": [],
   "source": [
    "horizons = [2,5,60,250,1000]\n",
    "# seeing if the stock price as compared to today was better 2 days ago, or a week ago, or 2 months ago, or a year ago, or 4 years ago. \n",
    "\n",
    "new_predictors = []\n",
    "\n",
    "for horizon in horizons:\n",
    "    rolling_averages = sp500.rolling(horizon).mean()\n",
    "    \n",
    "    ratio_column = f\"Close_Ratio_{horizon}\"\n",
    "    sp500[ratio_column] = sp500[\"Close\"] / rolling_averages[\"Close\"]\n",
    "    \n",
    "    trend_column = f\"Trend_{horizon}\"\n",
    "    sp500[trend_column] = sp500.shift(1).rolling(horizon).sum()[\"Target\"]\n",
    "    \n",
    "    new_predictors += [ratio_column, trend_column]"
   ]
  },
  {
   "cell_type": "code",
   "execution_count": 60,
   "id": "5f6ca27a",
   "metadata": {},
   "outputs": [
    {
     "data": {
      "text/html": [
       "<div>\n",
       "<style scoped>\n",
       "    .dataframe tbody tr th:only-of-type {\n",
       "        vertical-align: middle;\n",
       "    }\n",
       "\n",
       "    .dataframe tbody tr th {\n",
       "        vertical-align: top;\n",
       "    }\n",
       "\n",
       "    .dataframe thead th {\n",
       "        text-align: right;\n",
       "    }\n",
       "</style>\n",
       "<table border=\"1\" class=\"dataframe\">\n",
       "  <thead>\n",
       "    <tr style=\"text-align: right;\">\n",
       "      <th></th>\n",
       "      <th>Open</th>\n",
       "      <th>High</th>\n",
       "      <th>Low</th>\n",
       "      <th>Close</th>\n",
       "      <th>Volume</th>\n",
       "      <th>Tomorrow</th>\n",
       "      <th>Target</th>\n",
       "      <th>Close_Ratio_2</th>\n",
       "      <th>Trend_2</th>\n",
       "      <th>Close_Ratio_5</th>\n",
       "      <th>Trend_5</th>\n",
       "      <th>Close_Ratio_60</th>\n",
       "      <th>Trend_60</th>\n",
       "      <th>Close_Ratio_250</th>\n",
       "      <th>Trend_250</th>\n",
       "      <th>Close_Ratio_1000</th>\n",
       "      <th>Trend_1000</th>\n",
       "    </tr>\n",
       "    <tr>\n",
       "      <th>Date</th>\n",
       "      <th></th>\n",
       "      <th></th>\n",
       "      <th></th>\n",
       "      <th></th>\n",
       "      <th></th>\n",
       "      <th></th>\n",
       "      <th></th>\n",
       "      <th></th>\n",
       "      <th></th>\n",
       "      <th></th>\n",
       "      <th></th>\n",
       "      <th></th>\n",
       "      <th></th>\n",
       "      <th></th>\n",
       "      <th></th>\n",
       "      <th></th>\n",
       "      <th></th>\n",
       "    </tr>\n",
       "  </thead>\n",
       "  <tbody>\n",
       "    <tr>\n",
       "      <th>1990-01-02 00:00:00-05:00</th>\n",
       "      <td>353.399994</td>\n",
       "      <td>359.690002</td>\n",
       "      <td>351.980011</td>\n",
       "      <td>359.690002</td>\n",
       "      <td>162070000</td>\n",
       "      <td>358.760010</td>\n",
       "      <td>0</td>\n",
       "      <td>NaN</td>\n",
       "      <td>NaN</td>\n",
       "      <td>NaN</td>\n",
       "      <td>NaN</td>\n",
       "      <td>NaN</td>\n",
       "      <td>NaN</td>\n",
       "      <td>NaN</td>\n",
       "      <td>NaN</td>\n",
       "      <td>NaN</td>\n",
       "      <td>NaN</td>\n",
       "    </tr>\n",
       "    <tr>\n",
       "      <th>1990-01-03 00:00:00-05:00</th>\n",
       "      <td>359.690002</td>\n",
       "      <td>360.589996</td>\n",
       "      <td>357.890015</td>\n",
       "      <td>358.760010</td>\n",
       "      <td>192330000</td>\n",
       "      <td>355.670013</td>\n",
       "      <td>0</td>\n",
       "      <td>0.998706</td>\n",
       "      <td>NaN</td>\n",
       "      <td>NaN</td>\n",
       "      <td>NaN</td>\n",
       "      <td>NaN</td>\n",
       "      <td>NaN</td>\n",
       "      <td>NaN</td>\n",
       "      <td>NaN</td>\n",
       "      <td>NaN</td>\n",
       "      <td>NaN</td>\n",
       "    </tr>\n",
       "    <tr>\n",
       "      <th>1990-01-04 00:00:00-05:00</th>\n",
       "      <td>358.760010</td>\n",
       "      <td>358.760010</td>\n",
       "      <td>352.890015</td>\n",
       "      <td>355.670013</td>\n",
       "      <td>177000000</td>\n",
       "      <td>352.200012</td>\n",
       "      <td>0</td>\n",
       "      <td>0.995675</td>\n",
       "      <td>0.0</td>\n",
       "      <td>NaN</td>\n",
       "      <td>NaN</td>\n",
       "      <td>NaN</td>\n",
       "      <td>NaN</td>\n",
       "      <td>NaN</td>\n",
       "      <td>NaN</td>\n",
       "      <td>NaN</td>\n",
       "      <td>NaN</td>\n",
       "    </tr>\n",
       "    <tr>\n",
       "      <th>1990-01-05 00:00:00-05:00</th>\n",
       "      <td>355.670013</td>\n",
       "      <td>355.670013</td>\n",
       "      <td>351.350006</td>\n",
       "      <td>352.200012</td>\n",
       "      <td>158530000</td>\n",
       "      <td>353.790009</td>\n",
       "      <td>1</td>\n",
       "      <td>0.995098</td>\n",
       "      <td>0.0</td>\n",
       "      <td>NaN</td>\n",
       "      <td>NaN</td>\n",
       "      <td>NaN</td>\n",
       "      <td>NaN</td>\n",
       "      <td>NaN</td>\n",
       "      <td>NaN</td>\n",
       "      <td>NaN</td>\n",
       "      <td>NaN</td>\n",
       "    </tr>\n",
       "    <tr>\n",
       "      <th>1990-01-08 00:00:00-05:00</th>\n",
       "      <td>352.200012</td>\n",
       "      <td>354.239990</td>\n",
       "      <td>350.540009</td>\n",
       "      <td>353.790009</td>\n",
       "      <td>140110000</td>\n",
       "      <td>349.619995</td>\n",
       "      <td>0</td>\n",
       "      <td>1.002252</td>\n",
       "      <td>1.0</td>\n",
       "      <td>0.993731</td>\n",
       "      <td>NaN</td>\n",
       "      <td>NaN</td>\n",
       "      <td>NaN</td>\n",
       "      <td>NaN</td>\n",
       "      <td>NaN</td>\n",
       "      <td>NaN</td>\n",
       "      <td>NaN</td>\n",
       "    </tr>\n",
       "    <tr>\n",
       "      <th>...</th>\n",
       "      <td>...</td>\n",
       "      <td>...</td>\n",
       "      <td>...</td>\n",
       "      <td>...</td>\n",
       "      <td>...</td>\n",
       "      <td>...</td>\n",
       "      <td>...</td>\n",
       "      <td>...</td>\n",
       "      <td>...</td>\n",
       "      <td>...</td>\n",
       "      <td>...</td>\n",
       "      <td>...</td>\n",
       "      <td>...</td>\n",
       "      <td>...</td>\n",
       "      <td>...</td>\n",
       "      <td>...</td>\n",
       "      <td>...</td>\n",
       "    </tr>\n",
       "    <tr>\n",
       "      <th>2023-08-24 00:00:00-04:00</th>\n",
       "      <td>4455.160156</td>\n",
       "      <td>4458.299805</td>\n",
       "      <td>4375.549805</td>\n",
       "      <td>4376.310059</td>\n",
       "      <td>3723470000</td>\n",
       "      <td>4405.709961</td>\n",
       "      <td>1</td>\n",
       "      <td>0.993225</td>\n",
       "      <td>1.0</td>\n",
       "      <td>0.996004</td>\n",
       "      <td>2.0</td>\n",
       "      <td>0.988050</td>\n",
       "      <td>31.0</td>\n",
       "      <td>1.074029</td>\n",
       "      <td>118.0</td>\n",
       "      <td>1.136723</td>\n",
       "      <td>531.0</td>\n",
       "    </tr>\n",
       "    <tr>\n",
       "      <th>2023-08-25 00:00:00-04:00</th>\n",
       "      <td>4389.379883</td>\n",
       "      <td>4418.459961</td>\n",
       "      <td>4356.290039</td>\n",
       "      <td>4405.709961</td>\n",
       "      <td>3296180000</td>\n",
       "      <td>4433.310059</td>\n",
       "      <td>1</td>\n",
       "      <td>1.003348</td>\n",
       "      <td>1.0</td>\n",
       "      <td>1.001054</td>\n",
       "      <td>3.0</td>\n",
       "      <td>0.993843</td>\n",
       "      <td>32.0</td>\n",
       "      <td>1.080875</td>\n",
       "      <td>119.0</td>\n",
       "      <td>1.143935</td>\n",
       "      <td>531.0</td>\n",
       "    </tr>\n",
       "    <tr>\n",
       "      <th>2023-08-28 00:00:00-04:00</th>\n",
       "      <td>4426.029785</td>\n",
       "      <td>4439.560059</td>\n",
       "      <td>4414.979980</td>\n",
       "      <td>4433.310059</td>\n",
       "      <td>2957230000</td>\n",
       "      <td>4497.629883</td>\n",
       "      <td>1</td>\n",
       "      <td>1.003123</td>\n",
       "      <td>2.0</td>\n",
       "      <td>1.005793</td>\n",
       "      <td>3.0</td>\n",
       "      <td>0.999272</td>\n",
       "      <td>32.0</td>\n",
       "      <td>1.087216</td>\n",
       "      <td>120.0</td>\n",
       "      <td>1.150666</td>\n",
       "      <td>531.0</td>\n",
       "    </tr>\n",
       "    <tr>\n",
       "      <th>2023-08-29 00:00:00-04:00</th>\n",
       "      <td>4432.750000</td>\n",
       "      <td>4500.140137</td>\n",
       "      <td>4431.680176</td>\n",
       "      <td>4497.629883</td>\n",
       "      <td>3354820000</td>\n",
       "      <td>4511.100098</td>\n",
       "      <td>1</td>\n",
       "      <td>1.007202</td>\n",
       "      <td>2.0</td>\n",
       "      <td>1.015314</td>\n",
       "      <td>4.0</td>\n",
       "      <td>1.012951</td>\n",
       "      <td>32.0</td>\n",
       "      <td>1.102437</td>\n",
       "      <td>121.0</td>\n",
       "      <td>1.166900</td>\n",
       "      <td>532.0</td>\n",
       "    </tr>\n",
       "    <tr>\n",
       "      <th>2023-08-30 00:00:00-04:00</th>\n",
       "      <td>4500.339844</td>\n",
       "      <td>4521.350098</td>\n",
       "      <td>4493.589844</td>\n",
       "      <td>4511.100098</td>\n",
       "      <td>478591719</td>\n",
       "      <td>NaN</td>\n",
       "      <td>0</td>\n",
       "      <td>1.001495</td>\n",
       "      <td>2.0</td>\n",
       "      <td>1.014914</td>\n",
       "      <td>4.0</td>\n",
       "      <td>1.015080</td>\n",
       "      <td>33.0</td>\n",
       "      <td>1.105136</td>\n",
       "      <td>122.0</td>\n",
       "      <td>1.169930</td>\n",
       "      <td>532.0</td>\n",
       "    </tr>\n",
       "  </tbody>\n",
       "</table>\n",
       "<p>8481 rows × 17 columns</p>\n",
       "</div>"
      ],
      "text/plain": [
       "                                  Open         High          Low        Close  \\\n",
       "Date                                                                            \n",
       "1990-01-02 00:00:00-05:00   353.399994   359.690002   351.980011   359.690002   \n",
       "1990-01-03 00:00:00-05:00   359.690002   360.589996   357.890015   358.760010   \n",
       "1990-01-04 00:00:00-05:00   358.760010   358.760010   352.890015   355.670013   \n",
       "1990-01-05 00:00:00-05:00   355.670013   355.670013   351.350006   352.200012   \n",
       "1990-01-08 00:00:00-05:00   352.200012   354.239990   350.540009   353.790009   \n",
       "...                                ...          ...          ...          ...   \n",
       "2023-08-24 00:00:00-04:00  4455.160156  4458.299805  4375.549805  4376.310059   \n",
       "2023-08-25 00:00:00-04:00  4389.379883  4418.459961  4356.290039  4405.709961   \n",
       "2023-08-28 00:00:00-04:00  4426.029785  4439.560059  4414.979980  4433.310059   \n",
       "2023-08-29 00:00:00-04:00  4432.750000  4500.140137  4431.680176  4497.629883   \n",
       "2023-08-30 00:00:00-04:00  4500.339844  4521.350098  4493.589844  4511.100098   \n",
       "\n",
       "                               Volume     Tomorrow  Target  Close_Ratio_2  \\\n",
       "Date                                                                        \n",
       "1990-01-02 00:00:00-05:00   162070000   358.760010       0            NaN   \n",
       "1990-01-03 00:00:00-05:00   192330000   355.670013       0       0.998706   \n",
       "1990-01-04 00:00:00-05:00   177000000   352.200012       0       0.995675   \n",
       "1990-01-05 00:00:00-05:00   158530000   353.790009       1       0.995098   \n",
       "1990-01-08 00:00:00-05:00   140110000   349.619995       0       1.002252   \n",
       "...                               ...          ...     ...            ...   \n",
       "2023-08-24 00:00:00-04:00  3723470000  4405.709961       1       0.993225   \n",
       "2023-08-25 00:00:00-04:00  3296180000  4433.310059       1       1.003348   \n",
       "2023-08-28 00:00:00-04:00  2957230000  4497.629883       1       1.003123   \n",
       "2023-08-29 00:00:00-04:00  3354820000  4511.100098       1       1.007202   \n",
       "2023-08-30 00:00:00-04:00   478591719          NaN       0       1.001495   \n",
       "\n",
       "                           Trend_2  Close_Ratio_5  Trend_5  Close_Ratio_60  \\\n",
       "Date                                                                         \n",
       "1990-01-02 00:00:00-05:00      NaN            NaN      NaN             NaN   \n",
       "1990-01-03 00:00:00-05:00      NaN            NaN      NaN             NaN   \n",
       "1990-01-04 00:00:00-05:00      0.0            NaN      NaN             NaN   \n",
       "1990-01-05 00:00:00-05:00      0.0            NaN      NaN             NaN   \n",
       "1990-01-08 00:00:00-05:00      1.0       0.993731      NaN             NaN   \n",
       "...                            ...            ...      ...             ...   \n",
       "2023-08-24 00:00:00-04:00      1.0       0.996004      2.0        0.988050   \n",
       "2023-08-25 00:00:00-04:00      1.0       1.001054      3.0        0.993843   \n",
       "2023-08-28 00:00:00-04:00      2.0       1.005793      3.0        0.999272   \n",
       "2023-08-29 00:00:00-04:00      2.0       1.015314      4.0        1.012951   \n",
       "2023-08-30 00:00:00-04:00      2.0       1.014914      4.0        1.015080   \n",
       "\n",
       "                           Trend_60  Close_Ratio_250  Trend_250  \\\n",
       "Date                                                              \n",
       "1990-01-02 00:00:00-05:00       NaN              NaN        NaN   \n",
       "1990-01-03 00:00:00-05:00       NaN              NaN        NaN   \n",
       "1990-01-04 00:00:00-05:00       NaN              NaN        NaN   \n",
       "1990-01-05 00:00:00-05:00       NaN              NaN        NaN   \n",
       "1990-01-08 00:00:00-05:00       NaN              NaN        NaN   \n",
       "...                             ...              ...        ...   \n",
       "2023-08-24 00:00:00-04:00      31.0         1.074029      118.0   \n",
       "2023-08-25 00:00:00-04:00      32.0         1.080875      119.0   \n",
       "2023-08-28 00:00:00-04:00      32.0         1.087216      120.0   \n",
       "2023-08-29 00:00:00-04:00      32.0         1.102437      121.0   \n",
       "2023-08-30 00:00:00-04:00      33.0         1.105136      122.0   \n",
       "\n",
       "                           Close_Ratio_1000  Trend_1000  \n",
       "Date                                                     \n",
       "1990-01-02 00:00:00-05:00               NaN         NaN  \n",
       "1990-01-03 00:00:00-05:00               NaN         NaN  \n",
       "1990-01-04 00:00:00-05:00               NaN         NaN  \n",
       "1990-01-05 00:00:00-05:00               NaN         NaN  \n",
       "1990-01-08 00:00:00-05:00               NaN         NaN  \n",
       "...                                     ...         ...  \n",
       "2023-08-24 00:00:00-04:00          1.136723       531.0  \n",
       "2023-08-25 00:00:00-04:00          1.143935       531.0  \n",
       "2023-08-28 00:00:00-04:00          1.150666       531.0  \n",
       "2023-08-29 00:00:00-04:00          1.166900       532.0  \n",
       "2023-08-30 00:00:00-04:00          1.169930       532.0  \n",
       "\n",
       "[8481 rows x 17 columns]"
      ]
     },
     "execution_count": 60,
     "metadata": {},
     "output_type": "execute_result"
    }
   ],
   "source": [
    "sp500"
   ]
  },
  {
   "cell_type": "code",
   "execution_count": 61,
   "id": "817092d6",
   "metadata": {},
   "outputs": [],
   "source": [
    "sp500 = sp500.dropna()\n",
    "# dropping rows with NAN values"
   ]
  },
  {
   "cell_type": "code",
   "execution_count": 62,
   "id": "83f98530",
   "metadata": {},
   "outputs": [
    {
     "data": {
      "text/html": [
       "<div>\n",
       "<style scoped>\n",
       "    .dataframe tbody tr th:only-of-type {\n",
       "        vertical-align: middle;\n",
       "    }\n",
       "\n",
       "    .dataframe tbody tr th {\n",
       "        vertical-align: top;\n",
       "    }\n",
       "\n",
       "    .dataframe thead th {\n",
       "        text-align: right;\n",
       "    }\n",
       "</style>\n",
       "<table border=\"1\" class=\"dataframe\">\n",
       "  <thead>\n",
       "    <tr style=\"text-align: right;\">\n",
       "      <th></th>\n",
       "      <th>Open</th>\n",
       "      <th>High</th>\n",
       "      <th>Low</th>\n",
       "      <th>Close</th>\n",
       "      <th>Volume</th>\n",
       "      <th>Tomorrow</th>\n",
       "      <th>Target</th>\n",
       "      <th>Close_Ratio_2</th>\n",
       "      <th>Trend_2</th>\n",
       "      <th>Close_Ratio_5</th>\n",
       "      <th>Trend_5</th>\n",
       "      <th>Close_Ratio_60</th>\n",
       "      <th>Trend_60</th>\n",
       "      <th>Close_Ratio_250</th>\n",
       "      <th>Trend_250</th>\n",
       "      <th>Close_Ratio_1000</th>\n",
       "      <th>Trend_1000</th>\n",
       "    </tr>\n",
       "    <tr>\n",
       "      <th>Date</th>\n",
       "      <th></th>\n",
       "      <th></th>\n",
       "      <th></th>\n",
       "      <th></th>\n",
       "      <th></th>\n",
       "      <th></th>\n",
       "      <th></th>\n",
       "      <th></th>\n",
       "      <th></th>\n",
       "      <th></th>\n",
       "      <th></th>\n",
       "      <th></th>\n",
       "      <th></th>\n",
       "      <th></th>\n",
       "      <th></th>\n",
       "      <th></th>\n",
       "      <th></th>\n",
       "    </tr>\n",
       "  </thead>\n",
       "  <tbody>\n",
       "    <tr>\n",
       "      <th>1993-12-14 00:00:00-05:00</th>\n",
       "      <td>465.730011</td>\n",
       "      <td>466.119995</td>\n",
       "      <td>462.459991</td>\n",
       "      <td>463.059998</td>\n",
       "      <td>275050000</td>\n",
       "      <td>461.839996</td>\n",
       "      <td>0</td>\n",
       "      <td>0.997157</td>\n",
       "      <td>1.0</td>\n",
       "      <td>0.996617</td>\n",
       "      <td>1.0</td>\n",
       "      <td>1.000283</td>\n",
       "      <td>32.0</td>\n",
       "      <td>1.028047</td>\n",
       "      <td>127.0</td>\n",
       "      <td>1.176082</td>\n",
       "      <td>512.0</td>\n",
       "    </tr>\n",
       "    <tr>\n",
       "      <th>1993-12-15 00:00:00-05:00</th>\n",
       "      <td>463.059998</td>\n",
       "      <td>463.690002</td>\n",
       "      <td>461.839996</td>\n",
       "      <td>461.839996</td>\n",
       "      <td>331770000</td>\n",
       "      <td>463.339996</td>\n",
       "      <td>1</td>\n",
       "      <td>0.998681</td>\n",
       "      <td>0.0</td>\n",
       "      <td>0.995899</td>\n",
       "      <td>1.0</td>\n",
       "      <td>0.997329</td>\n",
       "      <td>32.0</td>\n",
       "      <td>1.025151</td>\n",
       "      <td>126.0</td>\n",
       "      <td>1.172676</td>\n",
       "      <td>512.0</td>\n",
       "    </tr>\n",
       "    <tr>\n",
       "      <th>1993-12-16 00:00:00-05:00</th>\n",
       "      <td>461.859985</td>\n",
       "      <td>463.980011</td>\n",
       "      <td>461.859985</td>\n",
       "      <td>463.339996</td>\n",
       "      <td>284620000</td>\n",
       "      <td>466.380005</td>\n",
       "      <td>1</td>\n",
       "      <td>1.001621</td>\n",
       "      <td>1.0</td>\n",
       "      <td>0.999495</td>\n",
       "      <td>2.0</td>\n",
       "      <td>1.000311</td>\n",
       "      <td>32.0</td>\n",
       "      <td>1.028274</td>\n",
       "      <td>127.0</td>\n",
       "      <td>1.176163</td>\n",
       "      <td>513.0</td>\n",
       "    </tr>\n",
       "    <tr>\n",
       "      <th>1993-12-17 00:00:00-05:00</th>\n",
       "      <td>463.339996</td>\n",
       "      <td>466.380005</td>\n",
       "      <td>463.339996</td>\n",
       "      <td>466.380005</td>\n",
       "      <td>363750000</td>\n",
       "      <td>465.850006</td>\n",
       "      <td>0</td>\n",
       "      <td>1.003270</td>\n",
       "      <td>2.0</td>\n",
       "      <td>1.004991</td>\n",
       "      <td>3.0</td>\n",
       "      <td>1.006561</td>\n",
       "      <td>32.0</td>\n",
       "      <td>1.034781</td>\n",
       "      <td>128.0</td>\n",
       "      <td>1.183537</td>\n",
       "      <td>514.0</td>\n",
       "    </tr>\n",
       "    <tr>\n",
       "      <th>1993-12-20 00:00:00-05:00</th>\n",
       "      <td>466.380005</td>\n",
       "      <td>466.899994</td>\n",
       "      <td>465.529999</td>\n",
       "      <td>465.850006</td>\n",
       "      <td>255900000</td>\n",
       "      <td>465.299988</td>\n",
       "      <td>0</td>\n",
       "      <td>0.999431</td>\n",
       "      <td>1.0</td>\n",
       "      <td>1.003784</td>\n",
       "      <td>2.0</td>\n",
       "      <td>1.005120</td>\n",
       "      <td>32.0</td>\n",
       "      <td>1.033359</td>\n",
       "      <td>128.0</td>\n",
       "      <td>1.181856</td>\n",
       "      <td>513.0</td>\n",
       "    </tr>\n",
       "    <tr>\n",
       "      <th>...</th>\n",
       "      <td>...</td>\n",
       "      <td>...</td>\n",
       "      <td>...</td>\n",
       "      <td>...</td>\n",
       "      <td>...</td>\n",
       "      <td>...</td>\n",
       "      <td>...</td>\n",
       "      <td>...</td>\n",
       "      <td>...</td>\n",
       "      <td>...</td>\n",
       "      <td>...</td>\n",
       "      <td>...</td>\n",
       "      <td>...</td>\n",
       "      <td>...</td>\n",
       "      <td>...</td>\n",
       "      <td>...</td>\n",
       "      <td>...</td>\n",
       "    </tr>\n",
       "    <tr>\n",
       "      <th>2023-08-23 00:00:00-04:00</th>\n",
       "      <td>4396.439941</td>\n",
       "      <td>4443.180176</td>\n",
       "      <td>4396.439941</td>\n",
       "      <td>4436.009766</td>\n",
       "      <td>3837270000</td>\n",
       "      <td>4376.310059</td>\n",
       "      <td>0</td>\n",
       "      <td>1.005492</td>\n",
       "      <td>1.0</td>\n",
       "      <td>1.009864</td>\n",
       "      <td>2.0</td>\n",
       "      <td>1.002173</td>\n",
       "      <td>32.0</td>\n",
       "      <td>1.088870</td>\n",
       "      <td>119.0</td>\n",
       "      <td>1.152660</td>\n",
       "      <td>532.0</td>\n",
       "    </tr>\n",
       "    <tr>\n",
       "      <th>2023-08-24 00:00:00-04:00</th>\n",
       "      <td>4455.160156</td>\n",
       "      <td>4458.299805</td>\n",
       "      <td>4375.549805</td>\n",
       "      <td>4376.310059</td>\n",
       "      <td>3723470000</td>\n",
       "      <td>4405.709961</td>\n",
       "      <td>1</td>\n",
       "      <td>0.993225</td>\n",
       "      <td>1.0</td>\n",
       "      <td>0.996004</td>\n",
       "      <td>2.0</td>\n",
       "      <td>0.988050</td>\n",
       "      <td>31.0</td>\n",
       "      <td>1.074029</td>\n",
       "      <td>118.0</td>\n",
       "      <td>1.136723</td>\n",
       "      <td>531.0</td>\n",
       "    </tr>\n",
       "    <tr>\n",
       "      <th>2023-08-25 00:00:00-04:00</th>\n",
       "      <td>4389.379883</td>\n",
       "      <td>4418.459961</td>\n",
       "      <td>4356.290039</td>\n",
       "      <td>4405.709961</td>\n",
       "      <td>3296180000</td>\n",
       "      <td>4433.310059</td>\n",
       "      <td>1</td>\n",
       "      <td>1.003348</td>\n",
       "      <td>1.0</td>\n",
       "      <td>1.001054</td>\n",
       "      <td>3.0</td>\n",
       "      <td>0.993843</td>\n",
       "      <td>32.0</td>\n",
       "      <td>1.080875</td>\n",
       "      <td>119.0</td>\n",
       "      <td>1.143935</td>\n",
       "      <td>531.0</td>\n",
       "    </tr>\n",
       "    <tr>\n",
       "      <th>2023-08-28 00:00:00-04:00</th>\n",
       "      <td>4426.029785</td>\n",
       "      <td>4439.560059</td>\n",
       "      <td>4414.979980</td>\n",
       "      <td>4433.310059</td>\n",
       "      <td>2957230000</td>\n",
       "      <td>4497.629883</td>\n",
       "      <td>1</td>\n",
       "      <td>1.003123</td>\n",
       "      <td>2.0</td>\n",
       "      <td>1.005793</td>\n",
       "      <td>3.0</td>\n",
       "      <td>0.999272</td>\n",
       "      <td>32.0</td>\n",
       "      <td>1.087216</td>\n",
       "      <td>120.0</td>\n",
       "      <td>1.150666</td>\n",
       "      <td>531.0</td>\n",
       "    </tr>\n",
       "    <tr>\n",
       "      <th>2023-08-29 00:00:00-04:00</th>\n",
       "      <td>4432.750000</td>\n",
       "      <td>4500.140137</td>\n",
       "      <td>4431.680176</td>\n",
       "      <td>4497.629883</td>\n",
       "      <td>3354820000</td>\n",
       "      <td>4511.100098</td>\n",
       "      <td>1</td>\n",
       "      <td>1.007202</td>\n",
       "      <td>2.0</td>\n",
       "      <td>1.015314</td>\n",
       "      <td>4.0</td>\n",
       "      <td>1.012951</td>\n",
       "      <td>32.0</td>\n",
       "      <td>1.102437</td>\n",
       "      <td>121.0</td>\n",
       "      <td>1.166900</td>\n",
       "      <td>532.0</td>\n",
       "    </tr>\n",
       "  </tbody>\n",
       "</table>\n",
       "<p>7480 rows × 17 columns</p>\n",
       "</div>"
      ],
      "text/plain": [
       "                                  Open         High          Low        Close  \\\n",
       "Date                                                                            \n",
       "1993-12-14 00:00:00-05:00   465.730011   466.119995   462.459991   463.059998   \n",
       "1993-12-15 00:00:00-05:00   463.059998   463.690002   461.839996   461.839996   \n",
       "1993-12-16 00:00:00-05:00   461.859985   463.980011   461.859985   463.339996   \n",
       "1993-12-17 00:00:00-05:00   463.339996   466.380005   463.339996   466.380005   \n",
       "1993-12-20 00:00:00-05:00   466.380005   466.899994   465.529999   465.850006   \n",
       "...                                ...          ...          ...          ...   \n",
       "2023-08-23 00:00:00-04:00  4396.439941  4443.180176  4396.439941  4436.009766   \n",
       "2023-08-24 00:00:00-04:00  4455.160156  4458.299805  4375.549805  4376.310059   \n",
       "2023-08-25 00:00:00-04:00  4389.379883  4418.459961  4356.290039  4405.709961   \n",
       "2023-08-28 00:00:00-04:00  4426.029785  4439.560059  4414.979980  4433.310059   \n",
       "2023-08-29 00:00:00-04:00  4432.750000  4500.140137  4431.680176  4497.629883   \n",
       "\n",
       "                               Volume     Tomorrow  Target  Close_Ratio_2  \\\n",
       "Date                                                                        \n",
       "1993-12-14 00:00:00-05:00   275050000   461.839996       0       0.997157   \n",
       "1993-12-15 00:00:00-05:00   331770000   463.339996       1       0.998681   \n",
       "1993-12-16 00:00:00-05:00   284620000   466.380005       1       1.001621   \n",
       "1993-12-17 00:00:00-05:00   363750000   465.850006       0       1.003270   \n",
       "1993-12-20 00:00:00-05:00   255900000   465.299988       0       0.999431   \n",
       "...                               ...          ...     ...            ...   \n",
       "2023-08-23 00:00:00-04:00  3837270000  4376.310059       0       1.005492   \n",
       "2023-08-24 00:00:00-04:00  3723470000  4405.709961       1       0.993225   \n",
       "2023-08-25 00:00:00-04:00  3296180000  4433.310059       1       1.003348   \n",
       "2023-08-28 00:00:00-04:00  2957230000  4497.629883       1       1.003123   \n",
       "2023-08-29 00:00:00-04:00  3354820000  4511.100098       1       1.007202   \n",
       "\n",
       "                           Trend_2  Close_Ratio_5  Trend_5  Close_Ratio_60  \\\n",
       "Date                                                                         \n",
       "1993-12-14 00:00:00-05:00      1.0       0.996617      1.0        1.000283   \n",
       "1993-12-15 00:00:00-05:00      0.0       0.995899      1.0        0.997329   \n",
       "1993-12-16 00:00:00-05:00      1.0       0.999495      2.0        1.000311   \n",
       "1993-12-17 00:00:00-05:00      2.0       1.004991      3.0        1.006561   \n",
       "1993-12-20 00:00:00-05:00      1.0       1.003784      2.0        1.005120   \n",
       "...                            ...            ...      ...             ...   \n",
       "2023-08-23 00:00:00-04:00      1.0       1.009864      2.0        1.002173   \n",
       "2023-08-24 00:00:00-04:00      1.0       0.996004      2.0        0.988050   \n",
       "2023-08-25 00:00:00-04:00      1.0       1.001054      3.0        0.993843   \n",
       "2023-08-28 00:00:00-04:00      2.0       1.005793      3.0        0.999272   \n",
       "2023-08-29 00:00:00-04:00      2.0       1.015314      4.0        1.012951   \n",
       "\n",
       "                           Trend_60  Close_Ratio_250  Trend_250  \\\n",
       "Date                                                              \n",
       "1993-12-14 00:00:00-05:00      32.0         1.028047      127.0   \n",
       "1993-12-15 00:00:00-05:00      32.0         1.025151      126.0   \n",
       "1993-12-16 00:00:00-05:00      32.0         1.028274      127.0   \n",
       "1993-12-17 00:00:00-05:00      32.0         1.034781      128.0   \n",
       "1993-12-20 00:00:00-05:00      32.0         1.033359      128.0   \n",
       "...                             ...              ...        ...   \n",
       "2023-08-23 00:00:00-04:00      32.0         1.088870      119.0   \n",
       "2023-08-24 00:00:00-04:00      31.0         1.074029      118.0   \n",
       "2023-08-25 00:00:00-04:00      32.0         1.080875      119.0   \n",
       "2023-08-28 00:00:00-04:00      32.0         1.087216      120.0   \n",
       "2023-08-29 00:00:00-04:00      32.0         1.102437      121.0   \n",
       "\n",
       "                           Close_Ratio_1000  Trend_1000  \n",
       "Date                                                     \n",
       "1993-12-14 00:00:00-05:00          1.176082       512.0  \n",
       "1993-12-15 00:00:00-05:00          1.172676       512.0  \n",
       "1993-12-16 00:00:00-05:00          1.176163       513.0  \n",
       "1993-12-17 00:00:00-05:00          1.183537       514.0  \n",
       "1993-12-20 00:00:00-05:00          1.181856       513.0  \n",
       "...                                     ...         ...  \n",
       "2023-08-23 00:00:00-04:00          1.152660       532.0  \n",
       "2023-08-24 00:00:00-04:00          1.136723       531.0  \n",
       "2023-08-25 00:00:00-04:00          1.143935       531.0  \n",
       "2023-08-28 00:00:00-04:00          1.150666       531.0  \n",
       "2023-08-29 00:00:00-04:00          1.166900       532.0  \n",
       "\n",
       "[7480 rows x 17 columns]"
      ]
     },
     "execution_count": 62,
     "metadata": {},
     "output_type": "execute_result"
    }
   ],
   "source": [
    "sp500"
   ]
  },
  {
   "cell_type": "markdown",
   "id": "b4f6011b",
   "metadata": {},
   "source": [
    "## Improving our Model"
   ]
  },
  {
   "cell_type": "code",
   "execution_count": 63,
   "id": "4df55a64",
   "metadata": {},
   "outputs": [],
   "source": [
    "model = RandomForestClassifier(n_estimators=200, min_samples_split=50, random_state=1)"
   ]
  },
  {
   "cell_type": "code",
   "execution_count": 64,
   "id": "4e03acf1",
   "metadata": {},
   "outputs": [],
   "source": [
    "def predict(train, test, predictors, model):\n",
    "    model.fit(train[predictors], train[\"Target\"])\n",
    "    preds = model.predict_proba(test[predictors])[:,1]\n",
    "    # we change the above line into getting the probability of the stock price going up or down tomorrow\n",
    "    # we get the second column of preds, so only the part predicting if the stock price is going up\n",
    "    \n",
    "    preds[preds >= .6] = 1\n",
    "    # if the probability of the stock price going up is greater that 60 percent, only then will we assign the value 1\n",
    "    \n",
    "    preds[preds < .6] = 0\n",
    "    # this will reduce the number of trading days for us where the price will go up, but inturn, it ensures greater chances of the stock price actually going up, when we predict it to go up. \n",
    "    # hence we will be able to make lesser, but more efficient trades\n",
    "    \n",
    "    preds = pd.Series(preds, index=test.index, name=\"Predictions\")\n",
    "    combined = pd.concat([test[\"Target\"], preds], axis=1)\n",
    "    return combined"
   ]
  },
  {
   "cell_type": "code",
   "execution_count": 65,
   "id": "a25c1a79",
   "metadata": {},
   "outputs": [],
   "source": [
    "predictions = backtest(sp500, model, new_predictors)"
   ]
  },
  {
   "cell_type": "code",
   "execution_count": 66,
   "id": "36b0b23a",
   "metadata": {},
   "outputs": [
    {
     "data": {
      "text/plain": [
       "0.0    4160\n",
       "1.0     820\n",
       "Name: Predictions, dtype: int64"
      ]
     },
     "execution_count": 66,
     "metadata": {},
     "output_type": "execute_result"
    }
   ],
   "source": [
    "predictions[\"Predictions\"].value_counts()"
   ]
  },
  {
   "cell_type": "markdown",
   "id": "232e49e4",
   "metadata": {},
   "source": [
    "This time, the model predicts that the price will go up for only around 800 days. This is because we increased the threshold value of the model to predict that the stock price will go up."
   ]
  },
  {
   "cell_type": "code",
   "execution_count": 67,
   "id": "358c7652",
   "metadata": {
    "scrolled": true
   },
   "outputs": [
    {
     "data": {
      "text/plain": [
       "0.5695121951219512"
      ]
     },
     "execution_count": 67,
     "metadata": {},
     "output_type": "execute_result"
    }
   ],
   "source": [
    "precision_score(predictions[\"Target\"], predictions[\"Predictions\"])"
   ]
  },
  {
   "cell_type": "markdown",
   "id": "877c91ea",
   "metadata": {},
   "source": [
    "We know that for around 53% of the trading days, the stock price went up. \n",
    "Out of those 53% days, our model predicts around 57% of those days correctly, hence profiting over a longer period of time."
   ]
  },
  {
   "cell_type": "markdown",
   "id": "dd0e1d62",
   "metadata": {},
   "source": [
    "for improving the model : \n",
    "\n",
    "1. use indices from other side of the world, that does not work on the usual usa trading hours to predict if changes there will be reflected in the s&p500 model\n",
    "2. Use new and articles\n",
    "3. Use key components like tech\n",
    "4. can try increasing the reoulution, like hourly or minute by minute data"
   ]
  }
 ],
 "metadata": {
  "kernelspec": {
   "display_name": "Python 3 (ipykernel)",
   "language": "python",
   "name": "python3"
  },
  "language_info": {
   "codemirror_mode": {
    "name": "ipython",
    "version": 3
   },
   "file_extension": ".py",
   "mimetype": "text/x-python",
   "name": "python",
   "nbconvert_exporter": "python",
   "pygments_lexer": "ipython3",
   "version": "3.10.9"
  }
 },
 "nbformat": 4,
 "nbformat_minor": 5
}
